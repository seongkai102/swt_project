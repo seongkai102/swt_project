{
  "nbformat": 4,
  "nbformat_minor": 0,
  "metadata": {
    "colab": {
      "provenance": [],
      "authorship_tag": "ABX9TyPc5mfq6W45VMUS4xZtjq3Y"
    },
    "kernelspec": {
      "name": "python3",
      "display_name": "Python 3"
    },
    "language_info": {
      "name": "python"
    }
  },
  "cells": [
    {
      "cell_type": "code",
      "execution_count": 7,
      "metadata": {
        "id": "HYLRU0UdG6zj"
      },
      "outputs": [],
      "source": [
        "# import cv2 아직 확정은 아님\n",
        "# import tkinter 아직 확정은 아님\n",
        "import pandas as pd\n",
        "from sklearn.neighbors import KNeighborsClassifier\n",
        "\n",
        "\n",
        "#에이 진짜 설마 보고 그러겠어 에이설마 진짜로ㅡㅡ\n",
        "\n",
        "def  survey(): # 팀원추가 def 2가지로 나누기\n",
        "  jj_list = ['a','b'] # a,b는 문제임\n",
        "  for i,j in enumerate(jj_list):\n",
        "\n",
        "    \"\"\"\n",
        "    enumerate를 하는 이유\n",
        "    몇번 부터 몇번까지 해당 항목에 가중치를 추가해야하기 떄문에\n",
        "    \"\"\"\n",
        "    print(j)\n",
        "    aa = int(input(\"1,2,3,4,5 중 하나 선택\"))\n",
        "\n",
        "  \"\"\"\n",
        "  이후 질문당 가중치 설정해 각 변수의 값구하기\n",
        "  \"\"\"\n",
        "\n",
        "\n",
        "def csv_to(x):\n",
        "  \"\"\"\n",
        "  리스트를 받아 [[]] 판다스를 통해 csv로 변환\n",
        "  \"\"\"\n",
        "\n",
        "\n",
        "def my_profile():\n",
        "  my_profile = np.array([4, 4, 4, 3]) # 설문조사이후 이와 같이 저장하도록함 (1차원배열) 굳이 넘파이 X\n",
        "\n",
        "\n",
        "def predic(load):\n",
        "  \"\"\"\n",
        "  매번 실행마다 학습하는것을 방지하기 위해 경로입력후 학습 한번만 시키기\n",
        "  \"\"\"\n",
        "\n",
        "\n",
        "  global knn, data_y\n",
        "\n",
        "  data = pd.read_csv(rf'{load}') # 경로\n",
        "\n",
        "  data_x = data.iloc[:, :-1]\n",
        "  data_y = data.iloc[:, -1]\n",
        "\n",
        "  knn = KNeighborsClassifier(n_neighbors=len(data))\n",
        "\n",
        "  knn.fit(data_x, data_y)\n",
        "\n",
        "\n",
        "def model(profile): # 내 정보 입력\n",
        "  \"\"\"\n",
        "  k-nn 모델 학습 학습후 모델 save\n",
        "  이후 팀 인원수 n입력하여 가장 잘맞는 팀원 n 구하기\n",
        "  \"\"\"\n",
        "\n",
        "  if knn is None or data_y is None:\n",
        "    print('학습을 먼저하고 와주세요.')\n",
        "    return\n",
        "\n",
        "  n = int(input('원하는 팀원의 수 입력 : '))\n",
        "\n",
        "  distances, peoples = knn.kneighbors([profile], n_neighbors=n, return_distance=True)\n",
        "\n",
        "  for most, label in enumerate(peoples):\n",
        "    print(f\"{most+1}번째로 가까운 사람 : {data_y.iloc[label]}\")\n",
        "\n",
        "\n",
        "def main():\n",
        "  \"\"\"\n",
        "  GUI\n",
        "  \"\"\"\n",
        "\n",
        "if __name__ == '__main__':\n",
        "  main()\n"
      ]
    },
    {
      "cell_type": "markdown",
      "source": [
        "# k-nn예제코드"
      ],
      "metadata": {
        "id": "gwG-PX3aCnrk"
      }
    },
    {
      "cell_type": "code",
      "source": [
        "import numpy as np\n",
        "from sklearn.neighbors import KNeighborsClassifier\n",
        "\n",
        "# 예시 설문조사 데이터 (팀원들의 성향을 수치화한 데이터)\n",
        "data = np.array([\n",
        "    [4, 5, 3, 2],  # 팀원 1\n",
        "    [5, 5, 4, 3],  # 팀원 2\n",
        "    [2, 1, 5, 4],  # 팀원 3\n",
        "    [3, 4, 3, 2],  # 팀원 4\n",
        "    [5, 5, 5, 5],  # 팀원 5\n",
        "])\n",
        "\n",
        "# 나의 설문조사 응답\n",
        "my_profile = np.array([4, 4, 4, 3])\n",
        "\n",
        "# 팀원 이름 라벨\n",
        "labels = np.array([\"Alice\", \"Bob\", \"Charlie\", \"David\", \"Eve\"])\n",
        "\n",
        "# KNN 모델 (k=3)\n",
        "knn = KNeighborsClassifier(n_neighbors=len(data))\n",
        "\n",
        "# 모델 학습\n",
        "knn.fit(data, labels)\n",
        "\n",
        "# 나와 가장 가까운 팀원 3명을 찾고, 거리와 이웃 정보 반환\n",
        "distances, indices = knn.kneighbors([my_profile], return_distance=True)\n",
        "\n",
        "# 가장 가까운 팀원의 이름을 출력\n",
        "print(indices)\n",
        "nearest_team_members = labels[indices]\n",
        "print(\"가장 가까운 팀원들의 이름:\", nearest_team_members)\n",
        "print(\"이웃들과의 거리:\", distances)\n"
      ],
      "metadata": {
        "colab": {
          "base_uri": "https://localhost:8080/"
        },
        "id": "LnvyEKd6LLme",
        "outputId": "b6741bcc-54d3-4c51-c780-a455a8156718"
      },
      "execution_count": 8,
      "outputs": [
        {
          "output_type": "stream",
          "name": "stdout",
          "text": [
            "[[1 0 3 4 2]]\n",
            "가장 가까운 팀원들의 이름: [['Bob' 'Alice' 'David' 'Eve' 'Charlie']]\n",
            "이웃들과의 거리: [[1.41421356 1.73205081 1.73205081 2.64575131 3.87298335]]\n"
          ]
        }
      ]
    }
  ]
}